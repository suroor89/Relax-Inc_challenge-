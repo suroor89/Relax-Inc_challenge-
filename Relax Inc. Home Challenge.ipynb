{
 "cells": [
  {
   "cell_type": "code",
   "execution_count": 1,
   "metadata": {},
   "outputs": [],
   "source": [
    "# import all necessory libraries\n",
    "import re\n",
    "import numpy as np \n",
    "import pandas as pd\n",
    "from sklearn.model_selection import cross_val_score, StratifiedKFold\n",
    "import matplotlib.pyplot as plt\n",
    "import seaborn as sns\n",
    "sns.set_style(\"darkgrid\")\n",
    "%matplotlib inline"
   ]
  },
  {
   "cell_type": "markdown",
   "metadata": {},
   "source": [
    "### Import Data"
   ]
  },
  {
   "cell_type": "code",
   "execution_count": 3,
   "metadata": {},
   "outputs": [],
   "source": [
    "user_eng_df = pd.read_csv('data/takehome_user_engagement.csv')\n",
    "users_df = pd.read_csv('data/takehome_users.csv', encoding='latin-1') #would throw error with no encoding"
   ]
  },
  {
   "cell_type": "code",
   "execution_count": 4,
   "metadata": {},
   "outputs": [
    {
     "data": {
      "text/html": [
       "<div>\n",
       "<style scoped>\n",
       "    .dataframe tbody tr th:only-of-type {\n",
       "        vertical-align: middle;\n",
       "    }\n",
       "\n",
       "    .dataframe tbody tr th {\n",
       "        vertical-align: top;\n",
       "    }\n",
       "\n",
       "    .dataframe thead th {\n",
       "        text-align: right;\n",
       "    }\n",
       "</style>\n",
       "<table border=\"1\" class=\"dataframe\">\n",
       "  <thead>\n",
       "    <tr style=\"text-align: right;\">\n",
       "      <th></th>\n",
       "      <th>time_stamp</th>\n",
       "      <th>user_id</th>\n",
       "      <th>visited</th>\n",
       "    </tr>\n",
       "  </thead>\n",
       "  <tbody>\n",
       "    <tr>\n",
       "      <td>0</td>\n",
       "      <td>2014-04-22 03:53:30</td>\n",
       "      <td>1</td>\n",
       "      <td>1</td>\n",
       "    </tr>\n",
       "    <tr>\n",
       "      <td>1</td>\n",
       "      <td>2013-11-15 03:45:04</td>\n",
       "      <td>2</td>\n",
       "      <td>1</td>\n",
       "    </tr>\n",
       "    <tr>\n",
       "      <td>2</td>\n",
       "      <td>2013-11-29 03:45:04</td>\n",
       "      <td>2</td>\n",
       "      <td>1</td>\n",
       "    </tr>\n",
       "    <tr>\n",
       "      <td>3</td>\n",
       "      <td>2013-12-09 03:45:04</td>\n",
       "      <td>2</td>\n",
       "      <td>1</td>\n",
       "    </tr>\n",
       "    <tr>\n",
       "      <td>4</td>\n",
       "      <td>2013-12-25 03:45:04</td>\n",
       "      <td>2</td>\n",
       "      <td>1</td>\n",
       "    </tr>\n",
       "  </tbody>\n",
       "</table>\n",
       "</div>"
      ],
      "text/plain": [
       "            time_stamp  user_id  visited\n",
       "0  2014-04-22 03:53:30        1        1\n",
       "1  2013-11-15 03:45:04        2        1\n",
       "2  2013-11-29 03:45:04        2        1\n",
       "3  2013-12-09 03:45:04        2        1\n",
       "4  2013-12-25 03:45:04        2        1"
      ]
     },
     "execution_count": 4,
     "metadata": {},
     "output_type": "execute_result"
    }
   ],
   "source": [
    "user_eng_df.head()"
   ]
  },
  {
   "cell_type": "code",
   "execution_count": 504,
   "metadata": {},
   "outputs": [
    {
     "data": {
      "text/html": [
       "<div>\n",
       "<style scoped>\n",
       "    .dataframe tbody tr th:only-of-type {\n",
       "        vertical-align: middle;\n",
       "    }\n",
       "\n",
       "    .dataframe tbody tr th {\n",
       "        vertical-align: top;\n",
       "    }\n",
       "\n",
       "    .dataframe thead th {\n",
       "        text-align: right;\n",
       "    }\n",
       "</style>\n",
       "<table border=\"1\" class=\"dataframe\">\n",
       "  <thead>\n",
       "    <tr style=\"text-align: right;\">\n",
       "      <th></th>\n",
       "      <th>object_id</th>\n",
       "      <th>creation_time</th>\n",
       "      <th>name</th>\n",
       "      <th>email</th>\n",
       "      <th>creation_source</th>\n",
       "      <th>last_session_creation_time</th>\n",
       "      <th>opted_in_to_mailing_list</th>\n",
       "      <th>enabled_for_marketing_drip</th>\n",
       "      <th>org_id</th>\n",
       "      <th>invited_by_user_id</th>\n",
       "    </tr>\n",
       "  </thead>\n",
       "  <tbody>\n",
       "    <tr>\n",
       "      <td>0</td>\n",
       "      <td>1</td>\n",
       "      <td>2014-04-22 03:53:30</td>\n",
       "      <td>Clausen August</td>\n",
       "      <td>AugustCClausen@yahoo.com</td>\n",
       "      <td>GUEST_INVITE</td>\n",
       "      <td>1.398139e+09</td>\n",
       "      <td>1</td>\n",
       "      <td>0</td>\n",
       "      <td>11</td>\n",
       "      <td>10803.0</td>\n",
       "    </tr>\n",
       "    <tr>\n",
       "      <td>1</td>\n",
       "      <td>2</td>\n",
       "      <td>2013-11-15 03:45:04</td>\n",
       "      <td>Poole Matthew</td>\n",
       "      <td>MatthewPoole@gustr.com</td>\n",
       "      <td>ORG_INVITE</td>\n",
       "      <td>1.396238e+09</td>\n",
       "      <td>0</td>\n",
       "      <td>0</td>\n",
       "      <td>1</td>\n",
       "      <td>316.0</td>\n",
       "    </tr>\n",
       "    <tr>\n",
       "      <td>2</td>\n",
       "      <td>3</td>\n",
       "      <td>2013-03-19 23:14:52</td>\n",
       "      <td>Bottrill Mitchell</td>\n",
       "      <td>MitchellBottrill@gustr.com</td>\n",
       "      <td>ORG_INVITE</td>\n",
       "      <td>1.363735e+09</td>\n",
       "      <td>0</td>\n",
       "      <td>0</td>\n",
       "      <td>94</td>\n",
       "      <td>1525.0</td>\n",
       "    </tr>\n",
       "    <tr>\n",
       "      <td>3</td>\n",
       "      <td>4</td>\n",
       "      <td>2013-05-21 08:09:28</td>\n",
       "      <td>Clausen Nicklas</td>\n",
       "      <td>NicklasSClausen@yahoo.com</td>\n",
       "      <td>GUEST_INVITE</td>\n",
       "      <td>1.369210e+09</td>\n",
       "      <td>0</td>\n",
       "      <td>0</td>\n",
       "      <td>1</td>\n",
       "      <td>5151.0</td>\n",
       "    </tr>\n",
       "    <tr>\n",
       "      <td>4</td>\n",
       "      <td>5</td>\n",
       "      <td>2013-01-17 10:14:20</td>\n",
       "      <td>Raw Grace</td>\n",
       "      <td>GraceRaw@yahoo.com</td>\n",
       "      <td>GUEST_INVITE</td>\n",
       "      <td>1.358850e+09</td>\n",
       "      <td>0</td>\n",
       "      <td>0</td>\n",
       "      <td>193</td>\n",
       "      <td>5240.0</td>\n",
       "    </tr>\n",
       "  </tbody>\n",
       "</table>\n",
       "</div>"
      ],
      "text/plain": [
       "   object_id        creation_time               name  \\\n",
       "0          1  2014-04-22 03:53:30     Clausen August   \n",
       "1          2  2013-11-15 03:45:04      Poole Matthew   \n",
       "2          3  2013-03-19 23:14:52  Bottrill Mitchell   \n",
       "3          4  2013-05-21 08:09:28    Clausen Nicklas   \n",
       "4          5  2013-01-17 10:14:20          Raw Grace   \n",
       "\n",
       "                        email creation_source  last_session_creation_time  \\\n",
       "0    AugustCClausen@yahoo.com    GUEST_INVITE                1.398139e+09   \n",
       "1      MatthewPoole@gustr.com      ORG_INVITE                1.396238e+09   \n",
       "2  MitchellBottrill@gustr.com      ORG_INVITE                1.363735e+09   \n",
       "3   NicklasSClausen@yahoo.com    GUEST_INVITE                1.369210e+09   \n",
       "4          GraceRaw@yahoo.com    GUEST_INVITE                1.358850e+09   \n",
       "\n",
       "   opted_in_to_mailing_list  enabled_for_marketing_drip  org_id  \\\n",
       "0                         1                           0      11   \n",
       "1                         0                           0       1   \n",
       "2                         0                           0      94   \n",
       "3                         0                           0       1   \n",
       "4                         0                           0     193   \n",
       "\n",
       "   invited_by_user_id  \n",
       "0             10803.0  \n",
       "1               316.0  \n",
       "2              1525.0  \n",
       "3              5151.0  \n",
       "4              5240.0  "
      ]
     },
     "execution_count": 504,
     "metadata": {},
     "output_type": "execute_result"
    }
   ],
   "source": [
    "users_df.head()"
   ]
  },
  {
   "cell_type": "code",
   "execution_count": 505,
   "metadata": {},
   "outputs": [
    {
     "name": "stdout",
     "output_type": "stream",
     "text": [
      "(12000, 10)\n",
      "object_id                        0\n",
      "creation_time                    0\n",
      "name                             0\n",
      "email                            0\n",
      "creation_source                  0\n",
      "last_session_creation_time    3177\n",
      "opted_in_to_mailing_list         0\n",
      "enabled_for_marketing_drip       0\n",
      "org_id                           0\n",
      "invited_by_user_id            5583\n",
      "dtype: int64\n"
     ]
    }
   ],
   "source": [
    "print(users_df.shape)\n",
    "print(users_df.isnull().sum())"
   ]
  },
  {
   "cell_type": "markdown",
   "metadata": {},
   "source": [
    "### Merge Dataframe"
   ]
  },
  {
   "cell_type": "code",
   "execution_count": 506,
   "metadata": {},
   "outputs": [],
   "source": [
    "# combine two dataframe using outer join\n",
    "data_df = user_eng_df.merge(users_df, left_on='user_id', right_on='object_id', how='outer')\n",
    "\n",
    "# Remove duplicate/unnecessary columns. 'visited' only has 1 for an entry, trivial column.\n",
    "del data_df['object_id'], data_df['visited']"
   ]
  },
  {
   "cell_type": "markdown",
   "metadata": {},
   "source": [
    "### Data Analysis"
   ]
  },
  {
   "cell_type": "code",
   "execution_count": 507,
   "metadata": {},
   "outputs": [
    {
     "data": {
      "image/png": "[encoded data removed]",
      "text/plain": [
       "<Figure size 1440x576 with 1 Axes>"
      ]
     },
     "metadata": {
      "needs_background": "light"
     },
     "output_type": "display_data"
    }
   ],
   "source": [
    "# plot heatmap to visualize missing values\n",
    "plt.figure(figsize=(20,8))\n",
    "sns.heatmap(data_df.isnull(),yticklabels=False,cbar=False)\n",
    "plt.show()"
   ]
  },
  {
   "cell_type": "markdown",
   "metadata": {},
   "source": [
    "- `invited_by_user_id has most number of null values, therefore we will remove that column.` "
   ]
  },
  {
   "cell_type": "code",
   "execution_count": 508,
   "metadata": {},
   "outputs": [
    {
     "name": "stdout",
     "output_type": "stream",
     "text": [
      "(211094, 11)\n",
      "time_stamp                     3177\n",
      "user_id                        3177\n",
      "creation_time                     0\n",
      "name                              0\n",
      "email                             0\n",
      "creation_source                   0\n",
      "last_session_creation_time     3177\n",
      "opted_in_to_mailing_list          0\n",
      "enabled_for_marketing_drip        0\n",
      "org_id                            0\n",
      "invited_by_user_id            92566\n",
      "dtype: int64\n"
     ]
    }
   ],
   "source": [
    "print(data_df.shape)\n",
    "print(data_df.isnull().sum())"
   ]
  },
  {
   "cell_type": "code",
   "execution_count": 509,
   "metadata": {},
   "outputs": [
    {
     "data": {
      "text/plain": [
       "(211094, 11)"
      ]
     },
     "execution_count": 509,
     "metadata": {},
     "output_type": "execute_result"
    }
   ],
   "source": [
    "data_df.shape"
   ]
  },
  {
   "cell_type": "code",
   "execution_count": 510,
   "metadata": {},
   "outputs": [
    {
     "name": "stdout",
     "output_type": "stream",
     "text": [
      "<class 'pandas.core.frame.DataFrame'>\n",
      "Int64Index: 211094 entries, 0 to 211093\n",
      "Data columns (total 11 columns):\n",
      "time_stamp                    207917 non-null object\n",
      "user_id                       207917 non-null float64\n",
      "creation_time                 211094 non-null object\n",
      "name                          211094 non-null object\n",
      "email                         211094 non-null object\n",
      "creation_source               211094 non-null object\n",
      "last_session_creation_time    207917 non-null float64\n",
      "opted_in_to_mailing_list      211094 non-null int64\n",
      "enabled_for_marketing_drip    211094 non-null int64\n",
      "org_id                        211094 non-null int64\n",
      "invited_by_user_id            118528 non-null float64\n",
      "dtypes: float64(3), int64(3), object(5)\n",
      "memory usage: 19.3+ MB\n"
     ]
    }
   ],
   "source": [
    "data_df.info()"
   ]
  },
  {
   "cell_type": "code",
   "execution_count": 511,
   "metadata": {},
   "outputs": [
    {
     "data": {
      "text/html": [
       "<div>\n",
       "<style scoped>\n",
       "    .dataframe tbody tr th:only-of-type {\n",
       "        vertical-align: middle;\n",
       "    }\n",
       "\n",
       "    .dataframe tbody tr th {\n",
       "        vertical-align: top;\n",
       "    }\n",
       "\n",
       "    .dataframe thead th {\n",
       "        text-align: right;\n",
       "    }\n",
       "</style>\n",
       "<table border=\"1\" class=\"dataframe\">\n",
       "  <thead>\n",
       "    <tr style=\"text-align: right;\">\n",
       "      <th></th>\n",
       "      <th>user_id</th>\n",
       "      <th>last_session_creation_time</th>\n",
       "      <th>opted_in_to_mailing_list</th>\n",
       "      <th>enabled_for_marketing_drip</th>\n",
       "      <th>org_id</th>\n",
       "      <th>invited_by_user_id</th>\n",
       "    </tr>\n",
       "  </thead>\n",
       "  <tbody>\n",
       "    <tr>\n",
       "      <td>count</td>\n",
       "      <td>207917.000000</td>\n",
       "      <td>2.079170e+05</td>\n",
       "      <td>211094.000000</td>\n",
       "      <td>211094.000000</td>\n",
       "      <td>211094.000000</td>\n",
       "      <td>118528.000000</td>\n",
       "    </tr>\n",
       "    <tr>\n",
       "      <td>mean</td>\n",
       "      <td>5913.314197</td>\n",
       "      <td>1.399439e+09</td>\n",
       "      <td>0.257890</td>\n",
       "      <td>0.154344</td>\n",
       "      <td>163.949558</td>\n",
       "      <td>5971.333347</td>\n",
       "    </tr>\n",
       "    <tr>\n",
       "      <td>std</td>\n",
       "      <td>3394.941674</td>\n",
       "      <td>8.294017e+06</td>\n",
       "      <td>0.437474</td>\n",
       "      <td>0.361279</td>\n",
       "      <td>121.240661</td>\n",
       "      <td>3248.588044</td>\n",
       "    </tr>\n",
       "    <tr>\n",
       "      <td>min</td>\n",
       "      <td>1.000000</td>\n",
       "      <td>1.338452e+09</td>\n",
       "      <td>0.000000</td>\n",
       "      <td>0.000000</td>\n",
       "      <td>0.000000</td>\n",
       "      <td>3.000000</td>\n",
       "    </tr>\n",
       "    <tr>\n",
       "      <td>25%</td>\n",
       "      <td>3087.000000</td>\n",
       "      <td>1.401045e+09</td>\n",
       "      <td>0.000000</td>\n",
       "      <td>0.000000</td>\n",
       "      <td>60.000000</td>\n",
       "      <td>3269.000000</td>\n",
       "    </tr>\n",
       "    <tr>\n",
       "      <td>50%</td>\n",
       "      <td>5682.000000</td>\n",
       "      <td>1.401665e+09</td>\n",
       "      <td>0.000000</td>\n",
       "      <td>0.000000</td>\n",
       "      <td>145.000000</td>\n",
       "      <td>5972.000000</td>\n",
       "    </tr>\n",
       "    <tr>\n",
       "      <td>75%</td>\n",
       "      <td>8944.000000</td>\n",
       "      <td>1.401868e+09</td>\n",
       "      <td>1.000000</td>\n",
       "      <td>0.000000</td>\n",
       "      <td>260.000000</td>\n",
       "      <td>8513.000000</td>\n",
       "    </tr>\n",
       "    <tr>\n",
       "      <td>max</td>\n",
       "      <td>12000.000000</td>\n",
       "      <td>1.402067e+09</td>\n",
       "      <td>1.000000</td>\n",
       "      <td>1.000000</td>\n",
       "      <td>416.000000</td>\n",
       "      <td>11999.000000</td>\n",
       "    </tr>\n",
       "  </tbody>\n",
       "</table>\n",
       "</div>"
      ],
      "text/plain": [
       "             user_id  last_session_creation_time  opted_in_to_mailing_list  \\\n",
       "count  207917.000000                2.079170e+05             211094.000000   \n",
       "mean     5913.314197                1.399439e+09                  0.257890   \n",
       "std      3394.941674                8.294017e+06                  0.437474   \n",
       "min         1.000000                1.338452e+09                  0.000000   \n",
       "25%      3087.000000                1.401045e+09                  0.000000   \n",
       "50%      5682.000000                1.401665e+09                  0.000000   \n",
       "75%      8944.000000                1.401868e+09                  1.000000   \n",
       "max     12000.000000                1.402067e+09                  1.000000   \n",
       "\n",
       "       enabled_for_marketing_drip         org_id  invited_by_user_id  \n",
       "count               211094.000000  211094.000000       118528.000000  \n",
       "mean                     0.154344     163.949558         5971.333347  \n",
       "std                      0.361279     121.240661         3248.588044  \n",
       "min                      0.000000       0.000000            3.000000  \n",
       "25%                      0.000000      60.000000         3269.000000  \n",
       "50%                      0.000000     145.000000         5972.000000  \n",
       "75%                      0.000000     260.000000         8513.000000  \n",
       "max                      1.000000     416.000000        11999.000000  "
      ]
     },
     "execution_count": 511,
     "metadata": {},
     "output_type": "execute_result"
    }
   ],
   "source": [
    "data_df.describe()"
   ]
  },
  {
   "cell_type": "code",
   "execution_count": 512,
   "metadata": {},
   "outputs": [
    {
     "data": {
      "text/html": [
       "<div>\n",
       "<style scoped>\n",
       "    .dataframe tbody tr th:only-of-type {\n",
       "        vertical-align: middle;\n",
       "    }\n",
       "\n",
       "    .dataframe tbody tr th {\n",
       "        vertical-align: top;\n",
       "    }\n",
       "\n",
       "    .dataframe thead th {\n",
       "        text-align: right;\n",
       "    }\n",
       "</style>\n",
       "<table border=\"1\" class=\"dataframe\">\n",
       "  <thead>\n",
       "    <tr style=\"text-align: right;\">\n",
       "      <th></th>\n",
       "      <th>user_id</th>\n",
       "      <th>last_session_creation_time</th>\n",
       "      <th>opted_in_to_mailing_list</th>\n",
       "      <th>enabled_for_marketing_drip</th>\n",
       "      <th>org_id</th>\n",
       "      <th>invited_by_user_id</th>\n",
       "    </tr>\n",
       "  </thead>\n",
       "  <tbody>\n",
       "    <tr>\n",
       "      <td>user_id</td>\n",
       "      <td>1.000000</td>\n",
       "      <td>-0.012878</td>\n",
       "      <td>-0.040880</td>\n",
       "      <td>-0.029354</td>\n",
       "      <td>-0.033602</td>\n",
       "      <td>0.127236</td>\n",
       "    </tr>\n",
       "    <tr>\n",
       "      <td>last_session_creation_time</td>\n",
       "      <td>-0.012878</td>\n",
       "      <td>1.000000</td>\n",
       "      <td>-0.004539</td>\n",
       "      <td>-0.008294</td>\n",
       "      <td>0.029462</td>\n",
       "      <td>0.005599</td>\n",
       "    </tr>\n",
       "    <tr>\n",
       "      <td>opted_in_to_mailing_list</td>\n",
       "      <td>-0.040880</td>\n",
       "      <td>-0.004539</td>\n",
       "      <td>1.000000</td>\n",
       "      <td>0.472457</td>\n",
       "      <td>-0.041098</td>\n",
       "      <td>0.013854</td>\n",
       "    </tr>\n",
       "    <tr>\n",
       "      <td>enabled_for_marketing_drip</td>\n",
       "      <td>-0.029354</td>\n",
       "      <td>-0.008294</td>\n",
       "      <td>0.472457</td>\n",
       "      <td>1.000000</td>\n",
       "      <td>-0.027600</td>\n",
       "      <td>0.023140</td>\n",
       "    </tr>\n",
       "    <tr>\n",
       "      <td>org_id</td>\n",
       "      <td>-0.033602</td>\n",
       "      <td>0.029462</td>\n",
       "      <td>-0.041098</td>\n",
       "      <td>-0.027600</td>\n",
       "      <td>1.000000</td>\n",
       "      <td>-0.104996</td>\n",
       "    </tr>\n",
       "    <tr>\n",
       "      <td>invited_by_user_id</td>\n",
       "      <td>0.127236</td>\n",
       "      <td>0.005599</td>\n",
       "      <td>0.013854</td>\n",
       "      <td>0.023140</td>\n",
       "      <td>-0.104996</td>\n",
       "      <td>1.000000</td>\n",
       "    </tr>\n",
       "  </tbody>\n",
       "</table>\n",
       "</div>"
      ],
      "text/plain": [
       "                             user_id  last_session_creation_time  \\\n",
       "user_id                     1.000000                   -0.012878   \n",
       "last_session_creation_time -0.012878                    1.000000   \n",
       "opted_in_to_mailing_list   -0.040880                   -0.004539   \n",
       "enabled_for_marketing_drip -0.029354                   -0.008294   \n",
       "org_id                     -0.033602                    0.029462   \n",
       "invited_by_user_id          0.127236                    0.005599   \n",
       "\n",
       "                            opted_in_to_mailing_list  \\\n",
       "user_id                                    -0.040880   \n",
       "last_session_creation_time                 -0.004539   \n",
       "opted_in_to_mailing_list                    1.000000   \n",
       "enabled_for_marketing_drip                  0.472457   \n",
       "org_id                                     -0.041098   \n",
       "invited_by_user_id                          0.013854   \n",
       "\n",
       "                            enabled_for_marketing_drip    org_id  \\\n",
       "user_id                                      -0.029354 -0.033602   \n",
       "last_session_creation_time                   -0.008294  0.029462   \n",
       "opted_in_to_mailing_list                      0.472457 -0.041098   \n",
       "enabled_for_marketing_drip                    1.000000 -0.027600   \n",
       "org_id                                       -0.027600  1.000000   \n",
       "invited_by_user_id                            0.023140 -0.104996   \n",
       "\n",
       "                            invited_by_user_id  \n",
       "user_id                               0.127236  \n",
       "last_session_creation_time            0.005599  \n",
       "opted_in_to_mailing_list              0.013854  \n",
       "enabled_for_marketing_drip            0.023140  \n",
       "org_id                               -0.104996  \n",
       "invited_by_user_id                    1.000000  "
      ]
     },
     "execution_count": 512,
     "metadata": {},
     "output_type": "execute_result"
    }
   ],
   "source": [
    "corr_data = data_df.corr()\n",
    "corr_data"
   ]
  },
  {
   "cell_type": "code",
   "execution_count": 513,
   "metadata": {},
   "outputs": [
    {
     "data": {
      "image/png": "[encoded data removed]",
      "text/plain": [
       "<Figure size 1080x720 with 2 Axes>"
      ]
     },
     "metadata": {
      "needs_background": "light"
     },
     "output_type": "display_data"
    }
   ],
   "source": [
    "fig, ax = plt.subplots()\n",
    "fig.set_size_inches(15, 10)\n",
    "sns.set_context(\"notebook\",font_scale = 1.0, rc = {\"lines.linewidth\":2.5})\n",
    "ax = sns.heatmap(corr_data, annot = True, fmt = \".2f\")\n",
    "bottom, top = ax.get_ylim()\n",
    "ax.set_ylim(bottom + 0.5, top - 0.5)\n",
    "plt.show()"
   ]
  },
  {
   "cell_type": "markdown",
   "metadata": {},
   "source": [
    "### Darta Pre-Processing"
   ]
  },
  {
   "cell_type": "code",
   "execution_count": 514,
   "metadata": {},
   "outputs": [],
   "source": [
    "data_df['invited_by_user_id'] = data_df['invited_by_user_id'].fillna(0)\n",
    "\n",
    "# Drop rows of NaN values\n",
    "data_df = data_df.dropna()\n",
    "\n",
    "# Correcting Data Types\n",
    "data_df['user_id'] = data_df['user_id'].astype(int)\n",
    "data_df['invited_by_user_id'] = data_df['invited_by_user_id'].astype(int)\n",
    "data_df['creation_time'] = pd.to_datetime(data_df['creation_time'], format='%Y-%m-%d %H:%M:%S')\n",
    "data_df['time_stamp'] = pd.to_datetime(data_df['time_stamp'], format='%Y-%m-%d %H:%M:%S')"
   ]
  },
  {
   "cell_type": "code",
   "execution_count": 515,
   "metadata": {},
   "outputs": [],
   "source": [
    "# Initially set all users as not 'adopted' (0 is false, 1 is true).\n",
    "data_df['active_users'] = 0\n",
    "\n",
    "# Data of users and how many times each of them have logged in. \n",
    "num_logins = data_df['name'].value_counts().values\n",
    "\n",
    "# Names of users who logged in 3 or more times\n",
    "valid_users = data_df['name'].value_counts().index[0:len(num_logins[num_logins>=3])]\n",
    "\n",
    "# Setting a variable to aggregate over\n",
    "data_df['counter'] = 1\n",
    "user_labels = []\n",
    "\n",
    "for idx, user in enumerate(valid_users): \n",
    "    user_df = data_df[data_df.name==user]\n",
    "    # Maximum number of logins in any week for each user\n",
    "    max_logins = user_df.set_index(\"time_stamp\").resample(\"7D\").sum().dropna()['counter'].max()\n",
    "    \n",
    "    if max_logins>=3:\n",
    "        user_labels.append(1)\n",
    "    else:\n",
    "        user_labels.append(0)\n",
    "\n",
    "# Extracting names of users who are considered 'adopted', and the total num of adopted users\n",
    "active_users_names = valid_users[np.where(np.array(user_labels)==1)]\n",
    "num_active_users = len(active_users_names)\n",
    "\n",
    "# Deleting aggregation counter\n",
    "del data_df['counter']\n",
    "\n",
    "# Giving the 'adopted users' their appropriate labels\n",
    "data_df.loc[data_df['name'].isin(active_users_names), 'active_users'] = 1\n",
    "\n",
    "# Do the same for the users dataframe\n",
    "users_df['active_users'] = 0\n",
    "users_df.loc[users_df['name'].isin(active_users_names), 'active_users'] = 1"
   ]
  },
  {
   "cell_type": "code",
   "execution_count": 516,
   "metadata": {},
   "outputs": [],
   "source": [
    "#Deleting a bunch of useless data\n",
    "del data_df['time_stamp'], data_df['name'], data_df['creation_time']\n",
    "del data_df['last_session_creation_time']\n",
    "del users_df['creation_time'], users_df['last_session_creation_time']"
   ]
  },
  {
   "cell_type": "code",
   "execution_count": 517,
   "metadata": {},
   "outputs": [
    {
     "data": {
      "image/png": "[encoded data removed]",
      "text/plain": [
       "<Figure size 1440x576 with 1 Axes>"
      ]
     },
     "metadata": {
      "needs_background": "light"
     },
     "output_type": "display_data"
    }
   ],
   "source": [
    "# plot total logins by each hour \n",
    "plt.figure(figsize=(20,8))\n",
    "sns.countplot(x= 'creation_source', hue='active_users',data=users_df)\n",
    "plt.xlabel('Creation Source')\n",
    "plt.title('Creation Source vs counts')\n",
    "plt.ylabel('Counts')\n",
    "plt.show()"
   ]
  },
  {
   "cell_type": "markdown",
   "metadata": {},
   "source": [
    "As seen in above countplot, ORG_INVITE and GUEST_INVITE are more active users than any other source."
   ]
  },
  {
   "cell_type": "markdown",
   "metadata": {},
   "source": [
    "### One HotEncoding"
   ]
  },
  {
   "cell_type": "code",
   "execution_count": 518,
   "metadata": {},
   "outputs": [],
   "source": [
    "# One hot encode categorical variables\n",
    "from collections import Counter\n",
    "users_df = users_df.join(pd.get_dummies(users_df['creation_source']))\n",
    "\n",
    "# Set the index as the user IDs.\n",
    "users_df = users_df.set_index(users_df.object_id)\n",
    "\n",
    "del users_df['creation_source'], users_df['object_id'], users_df['name'], users_df['email']\n",
    "del users_df['org_id'], users_df['invited_by_user_id']\n",
    "\n",
    "X = users_df.drop(['active_users'], axis=1)\n",
    "y = users_df['active_users']\n",
    "\n",
    "n_neg, n_pos = (Counter(users_df['active_users'])[0], Counter(users_df['active_users'])[1])"
   ]
  },
  {
   "cell_type": "markdown",
   "metadata": {},
   "source": [
    "### Building Model"
   ]
  },
  {
   "cell_type": "code",
   "execution_count": 519,
   "metadata": {},
   "outputs": [],
   "source": [
    "from xgboost import XGBClassifier\n",
    "from sklearn.model_selection import train_test_split\n",
    "from sklearn.metrics import accuracy_score"
   ]
  },
  {
   "cell_type": "code",
   "execution_count": 520,
   "metadata": {},
   "outputs": [
    {
     "data": {
      "text/plain": [
       "XGBClassifier(base_score=0.5, booster='gbtree', colsample_bylevel=1,\n",
       "              colsample_bynode=1, colsample_bytree=1, gamma=0,\n",
       "              learning_rate=0.1, max_delta_step=0, max_depth=3,\n",
       "              min_child_weight=1, missing=None, n_estimators=100, n_jobs=1,\n",
       "              nthread=None, objective='binary:logistic', random_state=0,\n",
       "              reg_alpha=0, reg_lambda=1, scale_pos_weight=1, seed=None,\n",
       "              silent=None, subsample=1, verbosity=1)"
      ]
     },
     "execution_count": 520,
     "metadata": {},
     "output_type": "execute_result"
    }
   ],
   "source": [
    "# split data into train and test sets\n",
    "X_train, X_test, y_train, y_test = train_test_split(X, y, test_size=0.30, random_state=42)\n",
    "# fit model to training data\n",
    "XGB_model = XGBClassifier()\n",
    "XGB_model.fit(X_train, y_train)"
   ]
  },
  {
   "cell_type": "code",
   "execution_count": 521,
   "metadata": {},
   "outputs": [],
   "source": [
    "from imblearn.over_sampling import SMOTE\n",
    "smote = SMOTE(random_state=0)"
   ]
  },
  {
   "cell_type": "code",
   "execution_count": 522,
   "metadata": {},
   "outputs": [],
   "source": [
    "columns = X_train.columns\n",
    "smote_X, smote_y = smote.fit_sample(X_train, y_train)\n",
    "smote_X = pd.DataFrame(data=smote_X,columns=columns )\n",
    "smote_y= pd.DataFrame(data=smote_y,columns=['active_users'])"
   ]
  },
  {
   "cell_type": "code",
   "execution_count": 523,
   "metadata": {},
   "outputs": [
    {
     "name": "stdout",
     "output_type": "stream",
     "text": [
      "Classification Report:\n",
      "               precision    recall  f1-score   support\n",
      "\n",
      "           0       0.50      1.00      0.67      2200\n",
      "           1       0.00      0.00      0.00      2165\n",
      "\n",
      "    accuracy                           0.50      4365\n",
      "   macro avg       0.25      0.50      0.34      4365\n",
      "weighted avg       0.25      0.50      0.34      4365\n",
      "\n"
     ]
    },
    {
     "name": "stderr",
     "output_type": "stream",
     "text": [
      "/Users/suroor/Documents/anaconda3/lib/python3.7/site-packages/sklearn/metrics/classification.py:1437: UndefinedMetricWarning: Precision and F-score are ill-defined and being set to 0.0 in labels with no predicted samples.\n",
      "  'precision', 'predicted', average, warn_for)\n"
     ]
    },
    {
     "data": {
      "image/png": "[encoded data removed]",
      "text/plain": [
       "<Figure size 432x288 with 2 Axes>"
      ]
     },
     "metadata": {
      "needs_background": "light"
     },
     "output_type": "display_data"
    }
   ],
   "source": [
    "X= smote_X\n",
    "y= smote_y\n",
    "\n",
    "X_train, X_test, y_train, y_test = train_test_split(X, y, test_size=0.30, random_state=42)\n",
    "\n",
    "\n",
    "# make predictions for test data\n",
    "y_pred = XGB_model.predict(X_test)\n",
    "predictions = [round(value) for value in y_pred]\n",
    "\n",
    "# Confusion Matrix Heatmap - evaluate predictions\n",
    "from sklearn.metrics import confusion_matrix, classification_report\n",
    "from sklearn.model_selection import cross_val_score\n",
    "\n",
    "cm = confusion_matrix(y_test, y_pred)\n",
    "ax = sns.heatmap(cm, annot = True, fmt = \".2f\",cmap=plt.cm.Blues)\n",
    "bottom, top = ax.get_ylim()\n",
    "ax.set_ylim(bottom + 0.5, top - 0.5)\n",
    "plt.title('Confusion matrix of the classifier',fontsize=16)\n",
    "print(\"Classification Report:\\n\", classification_report(y_test, y_pred))\n",
    "plt.show()"
   ]
  },
  {
   "cell_type": "code",
   "execution_count": 524,
   "metadata": {},
   "outputs": [
    {
     "data": {
      "text/plain": [
       "Text(0, 0.5, 'Feature Importance Score')"
      ]
     },
     "execution_count": 524,
     "metadata": {},
     "output_type": "execute_result"
    },
    {
     "data": {
      "image/png": "[encoded data removed]",
      "text/plain": [
       "<Figure size 1440x576 with 1 Axes>"
      ]
     },
     "metadata": {
      "needs_background": "light"
     },
     "output_type": "display_data"
    }
   ],
   "source": [
    "plt.figure(figsize=(20,8))\n",
    "feat_imp = pd.Series(XGB_model.feature_importances_, index=X.columns).sort_values(ascending=False)\n",
    "feat_imp.plot(kind='bar', title='Feature Importances')\n",
    "plt.ylabel('Feature Importance Score')"
   ]
  },
  {
   "cell_type": "code",
   "execution_count": 525,
   "metadata": {},
   "outputs": [
    {
     "data": {
      "image/png": "[encoded data removed]",
      "text/plain": [
       "<Figure size 576x432 with 1 Axes>"
      ]
     },
     "metadata": {
      "needs_background": "light"
     },
     "output_type": "display_data"
    }
   ],
   "source": [
    "# Create ROC Graph\n",
    "from sklearn.metrics import roc_curve, roc_auc_score\n",
    "\n",
    "xgb_roc_auc = roc_auc_score(y_test, XGB_model.predict(X_test))\n",
    "xgb_fpr, xgb_tpr, xgb_thresholds = roc_curve(y_test, XGB_model.predict_proba(X_test)[:,1])\n",
    "\n",
    "# Plot Xtreme Gradient Boost ROC\n",
    "plt.figure(figsize=(8,6))\n",
    "plt.plot(xgb_fpr, xgb_tpr, label='Xtreme Gradient Boos (area = %0.2f)' % xgb_roc_auc)\n",
    "\n",
    "# Plot Base Rate ROC\n",
    "plt.plot([0,1], [0,1],label='Base Rate')\n",
    "plt.xlim([0.0, 1.0])\n",
    "plt.ylim([0.0, 1.05])\n",
    "plt.xlabel('False Positive Rate')\n",
    "plt.ylabel('True Positive Rate')\n",
    "plt.title('ROC Graph')\n",
    "plt.legend(loc=\"lower right\")\n",
    "plt.show()"
   ]
  },
  {
   "cell_type": "markdown",
   "metadata": {},
   "source": [
    "### Conclusions"
   ]
  },
  {
   "cell_type": "markdown",
   "metadata": {},
   "source": [
    "Users who sign up through invites to personal projects (PERSONAL_PROJECTS) and users who sign up through guest invitations (GUEST_INVITE) are more likely to be 'adopted users'. Model can improved with proper Data cleaning and by applyting further hyper parameter tuning."
   ]
  }
 ],
 "metadata": {
  "kernelspec": {
   "display_name": "Python 3",
   "language": "python",
   "name": "python3"
  },
  "language_info": {
   "codemirror_mode": {
    "name": "ipython",
    "version": 3
   },
   "file_extension": ".py",
   "mimetype": "text/x-python",
   "name": "python",
   "nbconvert_exporter": "python",
   "pygments_lexer": "ipython3",
   "version": "3.7.4"
  }
 },
 "nbformat": 4,
 "nbformat_minor": 2
}
